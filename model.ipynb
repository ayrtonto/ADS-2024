{
 "cells": [
  {
   "cell_type": "code",
   "execution_count": 7,
   "metadata": {},
   "outputs": [
    {
     "name": "stdout",
     "output_type": "stream",
     "text": [
      "id               3\n",
      "artist_name      3\n",
      "album_name       3\n",
      "year            25\n",
      "title            3\n",
      "number         233\n",
      "text             3\n",
      "language         3\n",
      "genre            3\n",
      "mood_pred        3\n",
      "score            3\n",
      "dtype: int64\n"
     ]
    }
   ],
   "source": [
    "import pandas as pd\n",
    "\n",
    "df = pd.read_csv('data.csv')\n",
    "\n",
    "print(df.isnull().sum())\n",
    "\n",
    "df = df.dropna()\n",
    "\n",
    "from sklearn.feature_extraction.text import TfidfVectorizer\n",
    "\n",
    "tfidf = TfidfVectorizer()\n",
    "X = tfidf.fit_transform(df['text']).toarray()\n"
   ]
  },
  {
   "cell_type": "code",
   "execution_count": 10,
   "metadata": {},
   "outputs": [],
   "source": [
    "from sklearn.neighbors import NearestNeighbors\n",
    "\n",
    "knn = NearestNeighbors(n_neighbors=6, metric='cosine')\n",
    "knn.fit(X)\n"
   ]
  },
  {
   "cell_type": "code",
   "execution_count": null,
   "metadata": {},
   "outputs": [],
   "source": [
    "def recomendar_canciones_mood(text, genre=None, mood=None, k=5):\n",
    "    vec = tfidf.transform([text]).toarray()\n",
    "    distances, indices = knn.kneighbors(vec, n_neighbors=k*2)\n",
    "    recommendations = df.iloc[indices[0]]\n",
    "    \n",
    "    if genre:\n",
    "        recommendations = recommendations[recommendations['genre'] == genre]\n",
    "    if mood:\n",
    "        recommendations = recommendations[recommendations['mood_pred'] == mood]\n",
    "    \n",
    "    return recommendations.head(k)[['artist_name', 'title', 'genre', 'mood_pred']]"
   ]
  },
  {
   "cell_type": "code",
   "execution_count": 36,
   "metadata": {},
   "outputs": [
    {
     "name": "stdout",
     "output_type": "stream",
     "text": [
      "          artist_name                                title genre mood_pred\n",
      "1106      Leela James               When You Love Somebody   Pop      love\n",
      "12            Rihanna  I Love Every Little Thing About You   Pop       joy\n",
      "600      Howard Jones                        What Is Love?   Pop   sadness\n",
      "1216            Rosey                                 Love   Pop       joy\n",
      "265   Whitney Houston                   You Give Good Love   Pop       joy\n",
      "1393         Haddaway                         What Is Love   Pop      love\n"
     ]
    }
   ],
   "source": [
    "# Ejemplo de uso\n",
    "cancion_ejemplo = '''\n",
    "Love\n",
    "'''\n",
    "\n",
    "# Ejemplo de uso\n",
    "recomendaciones = recomendar_canciones_mood(cancion_ejemplo, 'Pop', None, 12)\n",
    "print(recomendaciones)\n"
   ]
  }
 ],
 "metadata": {
  "kernelspec": {
   "display_name": "Python 3",
   "language": "python",
   "name": "python3"
  },
  "language_info": {
   "codemirror_mode": {
    "name": "ipython",
    "version": 3
   },
   "file_extension": ".py",
   "mimetype": "text/x-python",
   "name": "python",
   "nbconvert_exporter": "python",
   "pygments_lexer": "ipython3",
   "version": "3.12.2"
  }
 },
 "nbformat": 4,
 "nbformat_minor": 2
}
